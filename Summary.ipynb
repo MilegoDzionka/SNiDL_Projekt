{
 "cells": [
  {
   "cell_type": "code",
   "execution_count": 1,
   "id": "f58572f0",
   "metadata": {},
   "outputs": [
    {
     "name": "stdout",
     "output_type": "stream",
     "text": [
      "Collecting torchviz\n",
      "  Downloading torchviz-0.0.2.tar.gz (4.9 kB)\n",
      "  Preparing metadata (setup.py): started\n",
      "  Preparing metadata (setup.py): finished with status 'done'\n",
      "Requirement already satisfied: torch in c:\\users\\piotr\\anaconda3\\lib\\site-packages (from torchviz) (2.3.0+cu118)\n",
      "Collecting graphviz (from torchviz)\n",
      "  Downloading graphviz-0.20.3-py3-none-any.whl.metadata (12 kB)\n",
      "Requirement already satisfied: filelock in c:\\users\\piotr\\anaconda3\\lib\\site-packages (from torch->torchviz) (3.13.1)\n",
      "Requirement already satisfied: typing-extensions>=4.8.0 in c:\\users\\piotr\\anaconda3\\lib\\site-packages (from torch->torchviz) (4.9.0)\n",
      "Requirement already satisfied: sympy in c:\\users\\piotr\\anaconda3\\lib\\site-packages (from torch->torchviz) (1.12)\n",
      "Requirement already satisfied: networkx in c:\\users\\piotr\\anaconda3\\lib\\site-packages (from torch->torchviz) (3.1)\n",
      "Requirement already satisfied: jinja2 in c:\\users\\piotr\\anaconda3\\lib\\site-packages (from torch->torchviz) (3.1.3)\n",
      "Requirement already satisfied: fsspec in c:\\users\\piotr\\anaconda3\\lib\\site-packages (from torch->torchviz) (2023.10.0)\n",
      "Requirement already satisfied: mkl<=2021.4.0,>=2021.1.1 in c:\\users\\piotr\\anaconda3\\lib\\site-packages (from torch->torchviz) (2021.4.0)\n",
      "Requirement already satisfied: intel-openmp==2021.* in c:\\users\\piotr\\anaconda3\\lib\\site-packages (from mkl<=2021.4.0,>=2021.1.1->torch->torchviz) (2021.4.0)\n",
      "Requirement already satisfied: tbb==2021.* in c:\\users\\piotr\\anaconda3\\lib\\site-packages (from mkl<=2021.4.0,>=2021.1.1->torch->torchviz) (2021.12.0)\n",
      "Requirement already satisfied: MarkupSafe>=2.0 in c:\\users\\piotr\\anaconda3\\lib\\site-packages (from jinja2->torch->torchviz) (2.1.3)\n",
      "Requirement already satisfied: mpmath>=0.19 in c:\\users\\piotr\\anaconda3\\lib\\site-packages (from sympy->torch->torchviz) (1.3.0)\n",
      "Downloading graphviz-0.20.3-py3-none-any.whl (47 kB)\n",
      "   ---------------------------------------- 0.0/47.1 kB ? eta -:--:--\n",
      "   -------- ------------------------------- 10.2/47.1 kB ? eta -:--:--\n",
      "   ---------------------------------------- 47.1/47.1 kB 594.9 kB/s eta 0:00:00\n",
      "Building wheels for collected packages: torchviz\n",
      "  Building wheel for torchviz (setup.py): started\n",
      "  Building wheel for torchviz (setup.py): finished with status 'done'\n",
      "  Created wheel for torchviz: filename=torchviz-0.0.2-py3-none-any.whl size=4138 sha256=ca1628a2702cbc4d1086d870b426e3b2d13683319ab3ad6da549eebcbbd4704e\n",
      "  Stored in directory: c:\\users\\piotr\\appdata\\local\\pip\\cache\\wheels\\5a\\d0\\3f\\b7014553eb74f12892b7d9b69c6083044564712d10fde8dfdc\n",
      "Successfully built torchviz\n",
      "Installing collected packages: graphviz, torchviz\n",
      "Successfully installed graphviz-0.20.3 torchviz-0.0.2\n",
      "Note: you may need to restart the kernel to use updated packages.\n"
     ]
    },
    {
     "name": "stderr",
     "output_type": "stream",
     "text": [
      "WARNING: Skipping C:\\Users\\Piotr\\anaconda3\\Lib\\site-packages\\torch-2.2.1.dist-info due to invalid metadata entry 'name'\n",
      "WARNING: Skipping C:\\Users\\Piotr\\anaconda3\\Lib\\site-packages\\torch-2.2.1.dist-info due to invalid metadata entry 'name'\n",
      "WARNING: Skipping C:\\Users\\Piotr\\anaconda3\\Lib\\site-packages\\torch-2.2.1.dist-info due to invalid metadata entry 'name'\n"
     ]
    }
   ],
   "source": [
    "pip install torchviz"
   ]
  },
  {
   "cell_type": "code",
   "execution_count": 16,
   "id": "3f2af002",
   "metadata": {},
   "outputs": [
    {
     "name": "stdout",
     "output_type": "stream",
     "text": [
      "torch.Size([1, 35])\n"
     ]
    },
    {
     "data": {
      "text/plain": [
       "'model_architecture_v2.pdf'"
      ]
     },
     "execution_count": 16,
     "metadata": {},
     "output_type": "execute_result"
    }
   ],
   "source": [
    "import torch\n",
    "import torch.nn as nn\n",
    "from torchviz import make_dot\n",
    "\n",
    "class Model_4(nn.Module):\n",
    "    def __init__(self):\n",
    "        super().__init__()\n",
    "        self.conv1 = nn.Conv2d(in_channels=3, out_channels=16, kernel_size=3, padding='same')\n",
    "        self.conv2 = nn.Conv2d(in_channels=16, out_channels=32, kernel_size=3, padding='same')\n",
    "        self.conv3 = nn.Conv2d(in_channels=32, out_channels=64, kernel_size=3, padding='same')\n",
    "        self.conv4 = nn.Conv2d(in_channels=64, out_channels=128, kernel_size=3, padding='same')\n",
    "        self.relu = nn.ReLU()\n",
    "        self.fc1 = nn.Linear(4608, 128)\n",
    "        self.fc2 = nn.Linear(128, 35)\n",
    "        self.softmax = nn.Softmax(dim=1)\n",
    "        self.dropout = nn.Dropout(p=0.2)\n",
    "        self.MaxPool = nn.MaxPool2d(kernel_size=2)\n",
    "        self.flatten = nn.Flatten()\n",
    "\n",
    "    def forward(self, out):\n",
    "        out = self.conv1(out)\n",
    "        out = self.relu(out)\n",
    "        out = self.MaxPool(out)\n",
    "        \n",
    "        out = self.conv2(out)\n",
    "        out = self.relu(out)\n",
    "        out = self.MaxPool(out)\n",
    "        \n",
    "        out = self.conv3(out)\n",
    "        out = self.relu(out)\n",
    "        out = self.MaxPool(out)\n",
    "\n",
    "        out = self.conv4(out)\n",
    "        out = self.relu(out)\n",
    "        out = self.MaxPool(out)\n",
    "\n",
    "        out = self.flatten(out)\n",
    "        \n",
    "        \n",
    "        out = self.fc1(out)\n",
    "        out = self.relu(out)\n",
    "        out = self.dropout(out)\n",
    "        out = self.fc2(out)\n",
    "        \n",
    "        return out\n",
    "\n",
    "# Tworzenie instancji modelu\n",
    "model = Model_4()\n",
    "\n",
    "# Tworzenie przykładowego wejścia\n",
    "x = torch.randn(1, 3, 96, 96)\n",
    "\n",
    "# Przechodzenie przez model, aby zweryfikować wymiary\n",
    "y = model(x)\n",
    "print(y.shape)\n",
    "\n",
    "# Generowanie wykresu\n",
    "dot = make_dot(y, params=dict(model.named_parameters()))\n",
    "\n",
    "# Zapisanie wykresu do pliku PDF\n",
    "dot.format = 'pdf'\n",
    "dot.render('model_architecture_v2')\n"
   ]
  },
  {
   "cell_type": "code",
   "execution_count": 3,
   "id": "65b989e8",
   "metadata": {},
   "outputs": [
    {
     "name": "stdout",
     "output_type": "stream",
     "text": [
      "Collecting torchsummary\n",
      "  Downloading torchsummary-1.5.1-py3-none-any.whl.metadata (296 bytes)\n",
      "Downloading torchsummary-1.5.1-py3-none-any.whl (2.8 kB)\n",
      "Installing collected packages: torchsummary\n",
      "Successfully installed torchsummary-1.5.1\n",
      "Note: you may need to restart the kernel to use updated packages.\n"
     ]
    },
    {
     "name": "stderr",
     "output_type": "stream",
     "text": [
      "WARNING: Skipping C:\\Users\\Piotr\\anaconda3\\Lib\\site-packages\\torch-2.2.1.dist-info due to invalid metadata entry 'name'\n",
      "WARNING: Skipping C:\\Users\\Piotr\\anaconda3\\Lib\\site-packages\\torch-2.2.1.dist-info due to invalid metadata entry 'name'\n",
      "WARNING: Skipping C:\\Users\\Piotr\\anaconda3\\Lib\\site-packages\\torch-2.2.1.dist-info due to invalid metadata entry 'name'\n"
     ]
    }
   ],
   "source": [
    "pip install torchsummary"
   ]
  },
  {
   "cell_type": "code",
   "execution_count": 5,
   "id": "3a4ffa8d",
   "metadata": {},
   "outputs": [
    {
     "name": "stdout",
     "output_type": "stream",
     "text": [
      "Collecting netron\n",
      "  Downloading netron-7.7.2-py3-none-any.whl.metadata (1.4 kB)\n",
      "Downloading netron-7.7.2-py3-none-any.whl (1.7 MB)\n",
      "   ---------------------------------------- 0.0/1.7 MB ? eta -:--:--\n",
      "   ---------------------------------------- 0.0/1.7 MB ? eta -:--:--\n",
      "    --------------------------------------- 0.0/1.7 MB 330.3 kB/s eta 0:00:06\n",
      "   - -------------------------------------- 0.1/1.7 MB 573.4 kB/s eta 0:00:03\n",
      "   ----- ---------------------------------- 0.2/1.7 MB 1.3 MB/s eta 0:00:02\n",
      "   ------------ --------------------------- 0.5/1.7 MB 2.3 MB/s eta 0:00:01\n",
      "   ------------------- -------------------- 0.8/1.7 MB 3.4 MB/s eta 0:00:01\n",
      "   ------------------------------------ --- 1.6/1.7 MB 5.3 MB/s eta 0:00:01\n",
      "   ---------------------------------------- 1.7/1.7 MB 5.0 MB/s eta 0:00:00\n",
      "Installing collected packages: netron\n",
      "Successfully installed netron-7.7.2\n",
      "Note: you may need to restart the kernel to use updated packages.\n"
     ]
    },
    {
     "name": "stderr",
     "output_type": "stream",
     "text": [
      "WARNING: Skipping C:\\Users\\Piotr\\anaconda3\\Lib\\site-packages\\torch-2.2.1.dist-info due to invalid metadata entry 'name'\n",
      "WARNING: Skipping C:\\Users\\Piotr\\anaconda3\\Lib\\site-packages\\torch-2.2.1.dist-info due to invalid metadata entry 'name'\n"
     ]
    }
   ],
   "source": [
    "pip install netron"
   ]
  },
  {
   "cell_type": "code",
   "execution_count": 14,
   "id": "ec644989",
   "metadata": {},
   "outputs": [
    {
     "name": "stdout",
     "output_type": "stream",
     "text": [
      "----------------------------------------------------------------\n",
      "        Layer (type)               Output Shape         Param #\n",
      "================================================================\n",
      "            Conv2d-1           [-1, 16, 96, 96]             448\n",
      "              ReLU-2           [-1, 16, 96, 96]               0\n",
      "         MaxPool2d-3           [-1, 16, 48, 48]               0\n",
      "            Conv2d-4           [-1, 32, 48, 48]           4,640\n",
      "              ReLU-5           [-1, 32, 48, 48]               0\n",
      "         MaxPool2d-6           [-1, 32, 24, 24]               0\n",
      "            Conv2d-7           [-1, 64, 24, 24]          18,496\n",
      "              ReLU-8           [-1, 64, 24, 24]               0\n",
      "         MaxPool2d-9           [-1, 64, 12, 12]               0\n",
      "           Conv2d-10          [-1, 128, 12, 12]          73,856\n",
      "             ReLU-11          [-1, 128, 12, 12]               0\n",
      "        MaxPool2d-12            [-1, 128, 6, 6]               0\n",
      "          Flatten-13                 [-1, 4608]               0\n",
      "           Linear-14                  [-1, 128]         589,952\n",
      "             ReLU-15                  [-1, 128]               0\n",
      "          Dropout-16                  [-1, 128]               0\n",
      "           Linear-17                   [-1, 35]           4,515\n",
      "================================================================\n",
      "Total params: 691,907\n",
      "Trainable params: 691,907\n",
      "Non-trainable params: 0\n",
      "----------------------------------------------------------------\n",
      "Input size (MB): 0.11\n",
      "Forward/backward pass size (MB): 4.78\n",
      "Params size (MB): 2.64\n",
      "Estimated Total Size (MB): 7.53\n",
      "----------------------------------------------------------------\n",
      "tensor([[ 0.0929,  0.0385,  0.0658, -0.0622, -0.0034, -0.0811, -0.0456, -0.0584,\n",
      "          0.0287, -0.0255,  0.1008,  0.0796, -0.0249,  0.0918, -0.0564,  0.0713,\n",
      "          0.0284, -0.0137,  0.0324, -0.0628, -0.0779,  0.0927, -0.0357, -0.0327,\n",
      "         -0.0599,  0.0670,  0.0022,  0.0731, -0.0159, -0.0269, -0.0362,  0.0860,\n",
      "          0.0655, -0.0591,  0.0347]], device='cuda:0',\n",
      "       grad_fn=<AddmmBackward0>)\n"
     ]
    }
   ],
   "source": [
    "import torch\n",
    "import torch.nn as nn\n",
    "from torchsummary import summary\n",
    "\n",
    "class Model_4(nn.Module):\n",
    "    def __init__(self):\n",
    "        super().__init__()\n",
    "        self.conv1 = nn.Conv2d(in_channels=3, out_channels=16, kernel_size=3, padding='same')\n",
    "        self.conv2 = nn.Conv2d(in_channels=16, out_channels=32, kernel_size=3, padding='same')\n",
    "        self.conv3 = nn.Conv2d(in_channels=32, out_channels=64, kernel_size=3, padding='same')\n",
    "        self.conv4 = nn.Conv2d(in_channels=64, out_channels=128, kernel_size=3, padding='same')\n",
    "        self.fc1 = nn.Linear(4608, 128)  # Poprawiono kształt wejścia do fc1\n",
    "        self.relu = nn.ReLU()\n",
    "        self.fc2 = nn.Linear(128, 35)\n",
    "        self.dropout = nn.Dropout(p=0.2)\n",
    "        self.MaxPool = nn.MaxPool2d(kernel_size=2)\n",
    "        self.flatten = nn.Flatten()\n",
    "\n",
    "    def forward(self, x):\n",
    "        x = self.conv1(x)\n",
    "        x = self.relu(x)\n",
    "        x = self.MaxPool(x)\n",
    "        \n",
    "        x = self.conv2(x)\n",
    "        x = self.relu(x)\n",
    "        x = self.MaxPool(x)\n",
    "        \n",
    "        x = self.conv3(x)\n",
    "        x = self.relu(x)\n",
    "        x = self.MaxPool(x)\n",
    "\n",
    "        x = self.conv4(x)\n",
    "        x = self.relu(x)\n",
    "        x = self.MaxPool(x)\n",
    "\n",
    "        x = self.flatten(x)\n",
    "        x = self.fc1(x)\n",
    "        x = self.relu(x)\n",
    "        x = self.dropout(x)\n",
    "        x = self.fc2(x)\n",
    "        \n",
    "        return x\n",
    "\n",
    "# Sprawdź dostępność GPU\n",
    "device = torch.device(\"cuda\" if torch.cuda.is_available() else \"cpu\")\n",
    "\n",
    "# Tworzenie instancji modelu\n",
    "model = Model_4().to(device)\n",
    "\n",
    "# Tworzenie przykładowego wejścia i przeniesienie go na odpowiednie urządzenie\n",
    "input_shape = (3, 96, 96)\n",
    "example_input = torch.randn(1, *input_shape).to(device)\n",
    "\n",
    "# Generowanie podsumowania modelu (może wymagać instalacji torchsummary)\n",
    "summary(model, input_shape)\n",
    "\n",
    "# Przykładowe przejście w przód (forward pass)\n",
    "output = model(example_input)\n",
    "print(output)\n"
   ]
  }
 ],
 "metadata": {
  "kernelspec": {
   "display_name": "Python 3 (ipykernel)",
   "language": "python",
   "name": "python3"
  },
  "language_info": {
   "codemirror_mode": {
    "name": "ipython",
    "version": 3
   },
   "file_extension": ".py",
   "mimetype": "text/x-python",
   "name": "python",
   "nbconvert_exporter": "python",
   "pygments_lexer": "ipython3",
   "version": "3.11.7"
  }
 },
 "nbformat": 4,
 "nbformat_minor": 5
}
